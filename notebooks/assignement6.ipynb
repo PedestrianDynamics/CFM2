{
 "cells": [
  {
   "cell_type": "code",
   "execution_count": 1,
   "metadata": {},
   "outputs": [],
   "source": [
    "import jupedsim as jps\n",
    "import pedpy\n",
    "from shapely import Polygon\n",
    "import matplotlib.pyplot as plt\n",
    "from matplotlib.patches import Circle\n",
    "import pathlib\n",
    "from dataclasses import dataclass, field\n",
    "from typing import List, Tuple\n",
    "from enum import Enum"
   ]
  },
  {
   "cell_type": "code",
   "execution_count": 2,
   "metadata": {},
   "outputs": [],
   "source": [
    "class AreaType(Enum):\n",
    "    \"\"\"Enumeration for different types of areas.\"\"\"\n",
    "    CORRIDOR_SHORT = \"corridor_short\"\n",
    "    CORRIDOR_LONG = \"corridor_long\"\n",
    "    CORNER = \"corner\"\n",
    "\n",
    "@dataclass\n",
    "class Scenario:\n",
    "    \"\"\"\n",
    "    A class representing a simulation scenario.\n",
    "\n",
    "    Attributes:\n",
    "        type (AreaType): The type of area for the scenario.\n",
    "        area (Polygon): The polygon defining the main area of the scenario.\n",
    "        exit (Polygon): The polygon defining the exit area.\n",
    "        positions (List[Tuple[float, float]]): List of positions (x, y) for agents.\n",
    "        waypoints (List[Tuple[float, float]]): List of waypoints for agents' paths.\n",
    "        distance_to_waypoints (int): Distance to waypoints from agents.\n",
    "\n",
    "    Auto-initialized Attributes:\n",
    "        journey_description (jps.JourneyDescription): Description of the journey for the simulation.\n",
    "        waypoint_ids (List[int]): List of IDs for each waypoint in the simulation.\n",
    "        walkable_area (pedpy.WalkableArea): Walkable area derived from the main area.\n",
    "        trajectory_file (str): File path for storing the simulation trajectory.\n",
    "        simulation (jps.Simulation): The JPS simulation object.\n",
    "    \"\"\"\n",
    "    type: AreaType\n",
    "    area: Polygon\n",
    "    exit: Polygon\n",
    "    positions: List[Tuple[float, float]]\n",
    "    waypoints: List[Tuple[float, float]] = field(default_factory=list)\n",
    "    distance_to_waypoints: int = 5\n",
    "    # ------------------------------------------\n",
    "    journey_description: jps.JourneyDescription = field(init=False)\n",
    "    waypoint_ids: List[int] = field(init=False, default_factory=list)\n",
    "    walkable_area: pedpy.WalkableArea = field(init=False)\n",
    "    trajectory_file: str = field(init=False)\n",
    "    simulation: jps.Simulation = field(init=False)\n",
    "\n",
    "    def __post_init__(self):\n",
    "        \"\"\"Initializes the simulation and related components after dataclass initialization.\"\"\"\n",
    "        self.trajectory_file = f\"traj_scenario_{self.type.name}.sqlite\"\n",
    "        self.walkable_area = pedpy.WalkableArea(self.area)\n",
    "        self.simulation = self.create_simulation()\n",
    "        self.journey_description, self.waypoint_ids = self.create_journey()\n",
    "        self.init_agents()\n",
    "\n",
    "    def create_journey(self) -> jps.JourneyDescription:\n",
    "        \"\"\"\n",
    "        Creates a journey description for the scenario.\n",
    "\n",
    "        Returns:\n",
    "            jps.JourneyDescription: The journey description for the simulation.\n",
    "        \"\"\"\n",
    "        exit_id = self.simulation.add_exit_stage(self.exit)\n",
    "        waypoint_ids = [\n",
    "            self.simulation.add_waypoint_stage(waypoint, self.distance_to_waypoints)\n",
    "            for waypoint in self.waypoints\n",
    "        ] if self.waypoints else [exit_id]\n",
    "\n",
    "        journey = jps.JourneyDescription([*waypoint_ids, exit_id])\n",
    "        # from all waypoints ---> exit\n",
    "        for waypoint_id in waypoint_ids:\n",
    "            journey.set_transition_for_stage(\n",
    "                waypoint_id, jps.Transition.create_fixed_transition(exit_id)\n",
    "            )\n",
    "\n",
    "        return journey, waypoint_ids\n",
    "    \n",
    "\n",
    "    def create_simulation(self) -> jps.Simulation:\n",
    "        \"\"\"\n",
    "        Creates the simulation object for the scenario.\n",
    "\n",
    "        Returns:\n",
    "            jps.Simulation: The simulation object initialized for the scenario.\n",
    "        \"\"\"\n",
    "        return jps.Simulation(\n",
    "            model=jps.CollisionFreeSpeedModel(),\n",
    "            dt=0.01,\n",
    "            geometry=self.area,\n",
    "            trajectory_writer=jps.SqliteTrajectoryWriter(\n",
    "                output_file=pathlib.Path(self.trajectory_file)\n",
    "            ),\n",
    "        )\n",
    "\n",
    "    def init_agents(self):\n",
    "        \"\"\"\n",
    "        Initializes agents in the simulation based on positions and waypoints.\n",
    "        \"\"\"\n",
    "        journey_id = self.simulation.add_journey(self.journey_description)\n",
    "        if self.waypoints:\n",
    "            stage_ids = [\n",
    "                self.waypoint_ids[i % len(self.waypoints)]\n",
    "                for i in range(len(self.positions))\n",
    "            ]\n",
    "        else:\n",
    "            # If no waypoints, use a default stage ID for all agents\n",
    "            default_stage_id = self.waypoint_ids[0]\n",
    "            stage_ids = [default_stage_id] * len(self.positions)\n",
    "\n",
    "        for pos, stage_id in zip(self.positions, stage_ids):\n",
    "            self.simulation.add_agent(\n",
    "                jps.CollisionFreeSpeedModelAgentParameters(\n",
    "                    journey_id=journey_id,\n",
    "                    stage_id=stage_id,\n",
    "                    position=pos,\n",
    "                )\n",
    "            )\n",
    "\n",
    "    def run_simulation(self):\n",
    "        \"\"\"\n",
    "        Runs the simulation until all agents have exited or the simulation reaches its limit.\n",
    "\n",
    "        Returns:\n",
    "            float: The total time taken for the simulation in seconds.\n",
    "        \"\"\"\n",
    "        print(f\"run simulation {self.type.name}\")\n",
    "        while self.simulation.agent_count() > 0:\n",
    "            self.simulation.iterate()\n",
    "\n",
    "        evac_time = self.simulation.iteration_count() * self.simulation.delta_time()\n",
    "        print(f\">> evac time: {evac_time:.2f} seconds.\")\n",
    "        return evac_time"
   ]
  },
  {
   "cell_type": "markdown",
   "metadata": {},
   "source": [
    "## Distribute positions\n"
   ]
  },
  {
   "cell_type": "code",
   "execution_count": 3,
   "metadata": {},
   "outputs": [],
   "source": [
    "num_agents = 100\n",
    "spawning_area = Polygon([[0, 0], [20, 0], [20, -7], [0, -7]])\n",
    "positions = jps.distributions.distribute_by_number(\n",
    "    polygon=spawning_area,\n",
    "    number_of_agents=num_agents,\n",
    "    distance_to_agents=0.4,\n",
    "    distance_to_polygon=0.1,\n",
    "    seed=1,\n",
    ")"
   ]
  },
  {
   "cell_type": "code",
   "execution_count": 4,
   "metadata": {},
   "outputs": [],
   "source": [
    "scenarios = []"
   ]
  },
  {
   "cell_type": "markdown",
   "metadata": {},
   "source": [
    "## Scenario: Corridor short\n"
   ]
  },
  {
   "cell_type": "code",
   "execution_count": 5,
   "metadata": {},
   "outputs": [],
   "source": [
    "corridor_short_area = Polygon(\n",
    "    [[0, 0], [20, 0], [20, -(6 + 44 + 6)], [0, -(6 + 44 + 6)]]\n",
    ")\n",
    "corridor_short_exit = Polygon(\n",
    "    [\n",
    "        [0, -(6 + 44 + 4)],\n",
    "        [20, -(6 + 44 + 4)],\n",
    "        [20, -(6 + 44 + 6)],\n",
    "        [0, -(6 + 44 + 6)],\n",
    "    ]\n",
    ")\n",
    "corridor_short_scenario = Scenario(\n",
    "    type=AreaType.CORRIDOR_SHORT,\n",
    "    area=corridor_short_area,\n",
    "    positions=positions,\n",
    "    exit=corridor_short_exit,\n",
    ")\n",
    "scenarios.append(corridor_short_scenario)"
   ]
  },
  {
   "cell_type": "markdown",
   "metadata": {},
   "source": [
    "## Scenario corner\n"
   ]
  },
  {
   "cell_type": "code",
   "execution_count": 6,
   "metadata": {},
   "outputs": [],
   "source": [
    "corner_area = Polygon(\n",
    "    [\n",
    "        [0, 0],\n",
    "        [20, 0],\n",
    "        [20, -(34 + 6)],\n",
    "        [30 + 6, -(34 + 6)],\n",
    "        [30 + 6, -(20 + 34 + 6)],\n",
    "        [0, -(20 + 34 + 6)],\n",
    "    ]\n",
    ")\n",
    "corner_waypoints = [\n",
    "    (15, -40),\n",
    "    (10, -45),\n",
    "    (5, -50),\n",
    "]\n",
    "corner_exit = Polygon(\n",
    "    [[30, -(34 + 6)], [36, -(34 + 6)], [36, -(34 + 6 + 20)], [30, -(34 + 6 + 20)]]\n",
    ")\n",
    "corner_scenario = Scenario(\n",
    "    type=AreaType.CORNER,\n",
    "    area=corner_area,\n",
    "    exit=corner_exit,\n",
    "    waypoints=corner_waypoints,\n",
    "    positions=positions,\n",
    "    distance_to_waypoints=5,\n",
    ")\n",
    "scenarios.append(corner_scenario)"
   ]
  },
  {
   "cell_type": "markdown",
   "metadata": {},
   "source": [
    "## Scenario: Corridor long\n"
   ]
  },
  {
   "cell_type": "code",
   "execution_count": 7,
   "metadata": {},
   "outputs": [],
   "source": [
    "corridor_long_area = Polygon(\n",
    "    [[0, 0], [20, 0], [20, -(6 + 75.4 + 6)], [0, -(6 + 75.4 + 6)]]\n",
    ")\n",
    "\n",
    "corridor_long_exit = Polygon(\n",
    "    [\n",
    "        [0, -(6 + 75.4 + 4)],\n",
    "        [20, -(6 + 75.4 + 4)],\n",
    "        [20, -(6 + 75.4 + 6)],\n",
    "        [0, -(6 + 75.4 + 6)],\n",
    "    ]\n",
    ")\n",
    "\n",
    "corridor_long_scenario = Scenario(\n",
    "    type=AreaType.CORRIDOR_LONG,\n",
    "    exit=corridor_long_exit,\n",
    "    area=corridor_long_area,\n",
    "    positions=positions,\n",
    ")\n",
    "scenarios.append(corridor_long_scenario)"
   ]
  },
  {
   "cell_type": "markdown",
   "metadata": {},
   "source": [
    "## Visual check\n"
   ]
  },
  {
   "cell_type": "code",
   "execution_count": 8,
   "metadata": {},
   "outputs": [
    {
     "data": {
      "image/png": "[encoded data removed]",
      "text/plain": [
       "<Figure size 640x480 with 3 Axes>"
      ]
     },
     "metadata": {},
     "output_type": "display_data"
    }
   ],
   "source": [
    "fig, axes = plt.subplots(ncols=3, nrows=1)\n",
    "for ax, scenario in zip(axes, scenarios):\n",
    "    pedpy.plot_walkable_area(\n",
    "        walkable_area=scenario.walkable_area, line_width=3, axes=ax\n",
    "    ).set_aspect(\"equal\")\n",
    "    ax.fill(\n",
    "        *spawning_area.exterior.xy, color=\"lightgrey\", alpha=0.5, label=\"Spawning Area\"\n",
    "    )\n",
    "    ax.fill(*scenario.exit.exterior.xy, color=\"indianred\", alpha=0.7, label=\"Exit\")\n",
    "    ax.scatter(\n",
    "        *Polygon(scenario.positions).exterior.xy,\n",
    "        marker=\".\",\n",
    "        color=\"blue\",\n",
    "        label=\"Starting Positions\",\n",
    "    )\n",
    "    ax.set_ylim([-(6 + 75.4 + 6 + 2), 2])\n",
    "    for idx, waypoint in enumerate(scenario.waypoints):\n",
    "        ax.plot(waypoint[0], waypoint[1], \"ro\")\n",
    "        ax.annotate(\n",
    "            f\"WP {idx+1}\",\n",
    "            (waypoint[0], waypoint[1]),\n",
    "            textcoords=\"offset points\",\n",
    "            xytext=(10, -15),\n",
    "            ha=\"center\",\n",
    "        )\n",
    "        circle = Circle(\n",
    "            (waypoint[0], waypoint[1]),\n",
    "            scenario.distance_to_waypoints,\n",
    "            fc=\"red\",\n",
    "            ec=\"red\",\n",
    "            alpha=0.1,\n",
    "        )\n",
    "        ax.add_patch(circle)"
   ]
  },
  {
   "cell_type": "markdown",
   "metadata": {},
   "source": [
    "## Run simulations\n"
   ]
  },
  {
   "cell_type": "code",
   "execution_count": 9,
   "metadata": {},
   "outputs": [
    {
     "name": "stdout",
     "output_type": "stream",
     "text": [
      "run simulation CORRIDOR_SHORT\n",
      ">> evac time: 62.66 seconds.\n",
      "run simulation CORNER\n",
      ">> evac time: 71.52 seconds.\n",
      "run simulation CORRIDOR_LONG\n",
      ">> evac time: 89.27 seconds.\n"
     ]
    }
   ],
   "source": [
    "evac_times = []\n",
    "for scenario in scenarios:\n",
    "    evac_time = scenario.run_simulation()\n",
    "    evac_times.append(evac_time)"
   ]
  },
  {
   "cell_type": "code",
   "execution_count": 10,
   "metadata": {},
   "outputs": [
    {
     "data": {
      "text/plain": [
       "[<matplotlib.lines.Line2D at 0x13d0ba110>]"
      ]
     },
     "execution_count": 10,
     "metadata": {},
     "output_type": "execute_result"
    },
    {
     "data": {
      "image/png": "[encoded data removed]",
      "text/plain": [
       "<Figure size 640x480 with 1 Axes>"
      ]
     },
     "metadata": {},
     "output_type": "display_data"
    }
   ],
   "source": [
    "plt.plot([scenario.type.name for scenario in scenarios], evac_times, \"o-\")"
   ]
  }
 ],
 "metadata": {
  "kernelspec": {
   "display_name": ".venv",
   "language": "python",
   "name": "python3"
  },
  "language_info": {
   "codemirror_mode": {
    "name": "ipython",
    "version": 3
   },
   "file_extension": ".py",
   "mimetype": "text/x-python",
   "name": "python",
   "nbconvert_exporter": "python",
   "pygments_lexer": "ipython3",
   "version": "3.10.12"
  }
 },
 "nbformat": 4,
 "nbformat_minor": 2
}
