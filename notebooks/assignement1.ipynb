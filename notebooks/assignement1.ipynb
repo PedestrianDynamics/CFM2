{
 "cells": [
  {
   "cell_type": "code",
   "execution_count": null,
   "metadata": {},
   "outputs": [],
   "source": [
    "import jupedsim as jps\n",
    "from shapely import Polygon\n",
    "import pathlib"
   ]
  },
  {
   "cell_type": "code",
   "execution_count": null,
   "metadata": {},
   "outputs": [],
   "source": [
    "area = Polygon([(-0.5, 0), (41, 0), (41, 2), (-0.5, 2)])"
   ]
  },
  {
   "cell_type": "code",
   "execution_count": null,
   "metadata": {},
   "outputs": [],
   "source": [
    "spawning_area = Polygon([(-0.5, 0), (0.2, 0), (0.2, 2), (-0.5, 2)])\n",
    "num_agents = 1\n",
    "positions = jps.distributions.distribute_by_number(\n",
    "    polygon=spawning_area,\n",
    "    number_of_agents=num_agents,\n",
    "    distance_to_agents=0.4,\n",
    "    distance_to_polygon=0.2,\n",
    "    seed=1,\n",
    ")\n",
    "exit_area = Polygon([(40, 0), (41, 0), (41, 2), (40, 2)])"
   ]
  },
  {
   "cell_type": "code",
   "execution_count": null,
   "metadata": {},
   "outputs": [],
   "source": [
    "trajectory_file = \"Test1.sqlite\"  # output file\n",
    "simulation = jps.Simulation(\n",
    "    model=jps.CollisionFreeSpeedModel(),\n",
    "    geometry=area,\n",
    "    trajectory_writer=jps.SqliteTrajectoryWriter(\n",
    "        output_file=pathlib.Path(trajectory_file)\n",
    "    ),\n",
    ")\n",
    "\n",
    "exit_id = simulation.add_exit_stage(exit_area)\n",
    "journey = jps.JourneyDescription([exit_id])\n",
    "journey_id = simulation.add_journey(journey)"
   ]
  },
  {
   "cell_type": "code",
   "execution_count": null,
   "metadata": {},
   "outputs": [],
   "source": [
    "ids = []\n",
    "for pos in positions:\n",
    "    id = simulation.add_agent(\n",
    "        jps.CollisionFreeSpeedModelAgentParameters(\n",
    "            journey_id=journey_id, stage_id=exit_id, position=pos, v0=0.001\n",
    "        )\n",
    "    )\n",
    "    ids.append(id)"
   ]
  },
  {
   "cell_type": "code",
   "execution_count": null,
   "metadata": {},
   "outputs": [],
   "source": [
    "premovement_time = 10\n",
    "dt = simulation.delta_time()\n",
    "premovement_iterations = int(premovement_time / dt)\n",
    "# Run Simulation for given number of iterations\n",
    "simulation.iterate(premovement_iterations)\n",
    "# Agent may start now\n",
    "simulation.agent(ids[0]).model.v0 = 1.33\n",
    "# Run simulation to the end\n",
    "while simulation.agent_count() > 0:\n",
    "    simulation.iterate()\n",
    "\n",
    "print(f\"Simulation time: {simulation.iteration_count()*dt} seconds.\")    "
   ]
  },
  {
   "cell_type": "code",
   "execution_count": null,
   "metadata": {},
   "outputs": [],
   "source": [
    "from jupedsim.internal.notebook_utils import animate, read_sqlite_file\n",
    "\n",
    "trajectory_data, walkable_area = read_sqlite_file(trajectory_file)\n",
    "animate(trajectory_data, walkable_area, every_nth_frame=5)"
   ]
  }
 ],
 "metadata": {
  "kernelspec": {
   "display_name": "Python 3",
   "language": "python",
   "name": "python3"
  },
  "language_info": {
   "codemirror_mode": {
    "name": "ipython",
    "version": 3
   },
   "file_extension": ".py",
   "mimetype": "text/x-python",
   "name": "python",
   "nbconvert_exporter": "python",
   "pygments_lexer": "ipython3",
   "version": "3.10.12"
  }
 },
 "nbformat": 4,
 "nbformat_minor": 2
}
