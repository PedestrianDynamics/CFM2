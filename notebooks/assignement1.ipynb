{
 "cells": [
  {
   "cell_type": "markdown",
   "id": "119ebeac-d99f-4d30-a3ce-d992b9a86cee",
   "metadata": {
    "editable": true,
    "slideshow": {
     "slide_type": ""
    },
    "tags": []
   },
   "source": [
    "# Test 6: Horizontal Counter-Flow Assessment\n",
    "\n",
    "The ability of evacuation models to simulate horizontal counter-flows shall be verified. Current testing should be intended only as a verification of the qualitative abilities of models to represent counterflows, i.e. no evaluation of the expected occupant trajectories is included. Nevertheless, once a sufficient body of benchmark experiments on occupant trajectories is available for comparison, testing can be expanded in order to include the analysis of occupant trajectories (i.e. it can become a validation test).\n",
    "\n",
    "**Source: Fire safety engineering — Verification and validation protocol for building fire evacuation models**\n",
    "\n",
    "**INTERNATIONAL STANDARD ISO 20414**\n"
   ]
  },
  {
   "cell_type": "code",
   "execution_count": 1,
   "id": "a6d4f847-92e0-4905-b52b-a9e61aa2355f",
   "metadata": {
    "editable": true,
    "slideshow": {
     "slide_type": ""
    },
    "tags": []
   },
   "outputs": [],
   "source": [
    "import pathlib\n",
    "\n",
    "import jupedsim as jps\n",
    "import matplotlib.pyplot as plt\n",
    "\n",
    "import pedpy\n",
    "from numpy.random import normal  # normal distribution of free movement speed\n",
    "from shapely import GeometryCollection, Polygon\n",
    "from jupedsim.internal.notebook_utils import animate, read_sqlite_file"
   ]
  },
  {
   "cell_type": "markdown",
   "id": "7a69458e-d0af-46e8-b3ff-0dca91e1015c",
   "metadata": {
    "editable": true,
    "slideshow": {
     "slide_type": ""
    },
    "tags": []
   },
   "source": [
    "## Geometry Setup\n",
    "\n",
    "By creating the union of all parts we end up with the whole walkable area.\n",
    "we will use the functionalities of [pedpy](https://pedpy.readthedocs.io/en/stable/) to plot geometries and analyse the trajectories.\n"
   ]
  },
  {
   "cell_type": "code",
   "execution_count": 2,
   "id": "d3087364-73e8-4b35-8a5e-2222df89f1fe",
   "metadata": {
    "editable": true,
    "slideshow": {
     "slide_type": ""
    },
    "tags": []
   },
   "outputs": [
    {
     "data": {
      "image/svg+xml": [
       "<svg xmlns=\"http://www.w3.org/2000/svg\" xmlns:xlink=\"http://www.w3.org/1999/xlink\" width=\"100.0\" height=\"100.0\" viewBox=\"-1.2 -1.2 32.4 12.399999999999999\" preserveAspectRatio=\"xMinYMin meet\"><g transform=\"matrix(1,0,0,-1,0,10.0)\"><g><path fill-rule=\"evenodd\" fill=\"#66cc99\" stroke=\"#555555\" stroke-width=\"0.648\" opacity=\"0.6\" d=\"M 10.0,4.0 L 10.0,0.0 L 0.0,0.0 L 0.0,10.0 L 10.0,10.0 L 10.0,6.0 L 20.0,6.0 L 20.0,10.0 L 30.0,10.0 L 30.0,0.0 L 20.0,0.0 L 20.0,4.0 L 10.0,4.0 z\" /></g></g></svg>"
      ],
      "text/plain": [
       "<GEOMETRYCOLLECTION (POLYGON ((10 4, 10 0, 0 0, 0 10, 10 10, 10 6, 20 6, 20 ...>"
      ]
     },
     "execution_count": 2,
     "metadata": {},
     "output_type": "execute_result"
    }
   ],
   "source": [
    "room1 = Polygon([(0, 0), (10, 0), (10, 10), (0, 10)])\n",
    "room2 = Polygon([(20, 0), (30, 0), (30, 10), (20, 10)])\n",
    "corridor = Polygon([(10, 4.0), (20, 4.0), (20, 6.0), (10, 6.0)])\n",
    "\n",
    "area = GeometryCollection(corridor.union(room1.union(room2)))\n",
    "walkable_area = pedpy.WalkableArea(area.geoms[0])\n",
    "area\n",
    "# pedpy.plot_walkable_area(walkable_area=walkable_area)"
   ]
  },
  {
   "cell_type": "markdown",
   "id": "c9f63836-0f81-4684-b99e-abdf664c9d53",
   "metadata": {
    "editable": true,
    "slideshow": {
     "slide_type": ""
    },
    "tags": []
   },
   "source": [
    "## Definition of Start Positions and Exit\n",
    "\n",
    "Now we define the spawning area according to RiMEA and calculate 150 positions within that area. The exit area is defined at the end of the corridor.\n"
   ]
  },
  {
   "cell_type": "code",
   "execution_count": 3,
   "id": "5dec36fb-55f2-4225-aac7-32be899c9254",
   "metadata": {
    "editable": true,
    "slideshow": {
     "slide_type": ""
    },
    "tags": []
   },
   "outputs": [],
   "source": [
    "num_agents = 14\n",
    "trajectory_file = \"double-botteleneck.sqlite\"\n",
    "v_distribution = normal(1.34, 0.05, num_agents)\n",
    "spawning_area_right = Polygon([(28, 0), (30, 0), (30, 10), (28, 10)])\n",
    "spawning_area_left = Polygon([(0, 0), (2, 0), (2, 10), (0, 10)])\n",
    "\n",
    "exit_area_right = Polygon([(29, 4.5), (30, 4.5), (30, 5.5), (29, 5.5)])\n",
    "exit_area_left = Polygon([(0, 4.5), (1, 4.5), (1, 5.5), (0, 5.5)])"
   ]
  },
  {
   "cell_type": "code",
   "execution_count": 9,
   "id": "220d8141-614e-464d-9dcc-fc5ea8d1a6af",
   "metadata": {
    "editable": true,
    "slideshow": {
     "slide_type": ""
    },
    "tags": [
     "hide-input"
    ]
   },
   "outputs": [],
   "source": [
    "def plot_simulation_configuration(axes, spawning_area, exit_area):\n",
    "    axes.fill(*spawning_area.exterior.xy, color=\"lightgrey\")\n",
    "    axes.fill(*exit_area.exterior.xy, color=\"indianred\")\n",
    "    axes.set_xlabel(\"x/m\")\n",
    "    axes.set_ylabel(\"y/m\")\n",
    "    axes.set_aspect(\"equal\")"
   ]
  },
  {
   "cell_type": "code",
   "execution_count": 10,
   "id": "1c65a38f-18bb-4d7f-bb24-e5ab2b7db651",
   "metadata": {
    "editable": true,
    "slideshow": {
     "slide_type": ""
    },
    "tags": []
   },
   "outputs": [
    {
     "data": {
      "image/png": "[encoded data removed]",
      "text/plain": [
       "<Figure size 640x480 with 1 Axes>"
      ]
     },
     "metadata": {},
     "output_type": "display_data"
    }
   ],
   "source": [
    "axes = pedpy.plot_walkable_area(walkable_area=walkable_area)\n",
    "plot_simulation_configuration(\n",
    "    axes, spawning_area_right, exit_area_right\n",
    ")\n",
    "plot_simulation_configuration(\n",
    "    axes, spawning_area_left, exit_area_left\n",
    ")"
   ]
  },
  {
   "cell_type": "markdown",
   "id": "2b990c43-7c81-4f19-92d6-97280974c300",
   "metadata": {
    "editable": true,
    "slideshow": {
     "slide_type": ""
    },
    "tags": []
   },
   "source": [
    "## Helper functions to setup simulation\n",
    "\n",
    "- create a simulation object\n",
    "- add agents to simulation\n",
    "- run simulation scenarios"
   ]
  },
  {
   "cell_type": "code",
   "execution_count": 6,
   "id": "6a9b725e-cf77-4589-9023-3105665684ea",
   "metadata": {
    "editable": true,
    "slideshow": {
     "slide_type": ""
    },
    "tags": []
   },
   "outputs": [],
   "source": [
    "def create_simulation(exit_areas, trajectory_file):\n",
    "    simulation = jps.Simulation(\n",
    "        model=jps.CollisionFreeSpeedModel(),\n",
    "        geometry=area,\n",
    "        trajectory_writer=jps.SqliteTrajectoryWriter(\n",
    "            output_file=pathlib.Path(trajectory_file)\n",
    "        ),\n",
    "    )\n",
    "    exit_ids = []\n",
    "    _journey_ids = []\n",
    "    for exit_area in exit_areas:\n",
    "        exit_id = simulation.add_exit_stage(exit_area.exterior.coords[:-1])\n",
    "        exit_ids.append(exit_id)\n",
    "        journey = jps.JourneyDescription([exit_id])\n",
    "        journey_id = simulation.add_journey(journey)\n",
    "        _journey_ids.append(journey_id)\n",
    "\n",
    "    return simulation, _journey_ids, exit_ids\n",
    "\n",
    "def add_agents_to_simulation(\n",
    "    simulation, journey_id, stage_id, positions, v0=1.2, radius=0.15\n",
    "):\n",
    "    for pos in positions:\n",
    "        agent_params = jps.CollisionFreeSpeedModelAgentParameters(\n",
    "            journey_id=journey_id,\n",
    "            stage_id=stage_id,\n",
    "            position=pos,\n",
    "            v0=v0,\n",
    "            radius=radius,\n",
    "        )\n",
    "        simulation.add_agent(agent_params)\n",
    "\n",
    "\n",
    "def run_simulation_scenarios(scenarios, seeds, trajectory_base_filename=\"double_bottleneck\"):\n",
    "    results = []\n",
    "    for seed in seeds:\n",
    "        for agents_left, agents_right in scenarios:\n",
    "            # Ensure the total number of agents remains constant at 100\n",
    "            if agents_left + agents_right != 100:\n",
    "                raise ValueError(\"Total agents must equal 100\")\n",
    "\n",
    "            trajectory_file = f\"{trajectory_base_filename}_{agents_left}_{agents_right}.sqlite\"\n",
    "            \n",
    "            simulation, journey_ids, exit_ids = create_simulation(\n",
    "                [exit_area_right, exit_area_left], trajectory_file\n",
    "            )\n",
    "            journey_id_right, journey_id_left = journey_ids\n",
    "            exit_id_right, exit_id_left = exit_ids\n",
    "\n",
    "            # Distribute agents for both left and right spawning areas using the same seed\n",
    "            pos_in_spawning_area_right = jps.distributions.distribute_by_number(\n",
    "                polygon=spawning_area_right,\n",
    "                number_of_agents=agents_right,\n",
    "                distance_to_agents=0.3,\n",
    "                distance_to_polygon=0.15,\n",
    "                seed=seed,\n",
    "            )\n",
    "            pos_in_spawning_area_left = jps.distributions.distribute_by_number(\n",
    "                polygon=spawning_area_left,\n",
    "                number_of_agents=agents_left,\n",
    "                distance_to_agents=0.3,\n",
    "                distance_to_polygon=0.15,\n",
    "                seed=seed,\n",
    "            )\n",
    "            \n",
    "            # Add agents for each spawning area\n",
    "            add_agents_to_simulation(\n",
    "                simulation, journey_id_left, exit_id_left, pos_in_spawning_area_right\n",
    "            )\n",
    "            add_agents_to_simulation(\n",
    "                simulation, journey_id_right, exit_id_right, pos_in_spawning_area_left\n",
    "            )\n",
    "\n",
    "            # Run the simulation\n",
    "            while simulation.agent_count() > 0:\n",
    "                simulation.iterate()\n",
    "\n",
    "            # Record the elapsed time for this scenario\n",
    "            time_elapsed = simulation.elapsed_time()\n",
    "            results.append((agents_left, agents_right, seed, time_elapsed))\n",
    "            print(f\"Simulation finished for {agents_left} left agents and {agents_right} right agents.\")\n",
    "            print(f\">> Elapsed time: {time_elapsed:.2f} s\")\n",
    "\n",
    "    return results       "
   ]
  },
  {
   "cell_type": "markdown",
   "id": "9079f1e8",
   "metadata": {},
   "source": [
    "## Setup simulation and run simulation"
   ]
  },
  {
   "cell_type": "code",
   "execution_count": 7,
   "id": "401f4fbb",
   "metadata": {},
   "outputs": [
    {
     "name": "stdout",
     "output_type": "stream",
     "text": [
      "Simulation finished for 100 left agents and 0 right agents.\n",
      ">> Elapsed time: 55.43 s\n",
      "Simulation finished for 80 left agents and 20 right agents.\n",
      ">> Elapsed time: 90.07 s\n",
      "Simulation finished for 60 left agents and 40 right agents.\n",
      ">> Elapsed time: 118.53 s\n",
      "Simulation finished for 50 left agents and 50 right agents.\n",
      ">> Elapsed time: 123.29 s\n",
      "Simulation finished for 100 left agents and 0 right agents.\n",
      ">> Elapsed time: 55.45 s\n",
      "Simulation finished for 80 left agents and 20 right agents.\n",
      ">> Elapsed time: 81.71 s\n",
      "Simulation finished for 60 left agents and 40 right agents.\n",
      ">> Elapsed time: 91.00 s\n",
      "Simulation finished for 50 left agents and 50 right agents.\n",
      ">> Elapsed time: 86.09 s\n",
      "Simulation finished for 100 left agents and 0 right agents.\n",
      ">> Elapsed time: 55.64 s\n",
      "Simulation finished for 80 left agents and 20 right agents.\n",
      ">> Elapsed time: 78.47 s\n",
      "Simulation finished for 60 left agents and 40 right agents.\n",
      ">> Elapsed time: 103.60 s\n",
      "Simulation finished for 50 left agents and 50 right agents.\n",
      ">> Elapsed time: 99.21 s\n",
      "Simulation finished for 100 left agents and 0 right agents.\n",
      ">> Elapsed time: 55.43 s\n",
      "Simulation finished for 80 left agents and 20 right agents.\n",
      ">> Elapsed time: 94.74 s\n",
      "Simulation finished for 60 left agents and 40 right agents.\n",
      ">> Elapsed time: 103.02 s\n",
      "Simulation finished for 50 left agents and 50 right agents.\n",
      ">> Elapsed time: 101.00 s\n",
      "Simulation finished for 100 left agents and 0 right agents.\n",
      ">> Elapsed time: 54.41 s\n",
      "Simulation finished for 80 left agents and 20 right agents.\n",
      ">> Elapsed time: 108.36 s\n",
      "Simulation finished for 60 left agents and 40 right agents.\n",
      ">> Elapsed time: 105.18 s\n",
      "Simulation finished for 50 left agents and 50 right agents.\n",
      ">> Elapsed time: 129.89 s\n",
      "Simulation finished for 100 left agents and 0 right agents.\n",
      ">> Elapsed time: 57.40 s\n",
      "Simulation finished for 80 left agents and 20 right agents.\n",
      ">> Elapsed time: 93.65 s\n",
      "Simulation finished for 60 left agents and 40 right agents.\n",
      ">> Elapsed time: 110.11 s\n",
      "Simulation finished for 50 left agents and 50 right agents.\n",
      ">> Elapsed time: 98.60 s\n"
     ]
    }
   ],
   "source": [
    "scenarios = [(100, 0), (80, 20), (60, 40), (50, 50)]\n",
    "seeds = [10, 1000, 20, 2000, 30, 4000]\n",
    "time_elapsed_list = run_simulation_scenarios(scenarios=scenarios, seeds=seeds)"
   ]
  },
  {
   "cell_type": "code",
   "execution_count": 11,
   "id": "076162ca",
   "metadata": {},
   "outputs": [
    {
     "data": {
      "text/plain": [
       "<Figure size 1000x600 with 0 Axes>"
      ]
     },
     "metadata": {},
     "output_type": "display_data"
    },
    {
     "data": {
      "image/png": "[encoded data removed]",
      "text/plain": [
       "<Figure size 800x600 with 1 Axes>"
      ]
     },
     "metadata": {},
     "output_type": "display_data"
    }
   ],
   "source": [
    "import numpy as np\n",
    "plt.figure(figsize=(10, 6))\n",
    "right_agents = sorted({entry[1] for entry in time_elapsed_list})\n",
    "mean_times = []\n",
    "std_dev_times = []\n",
    "\n",
    "# Calculate mean and standard deviation for each right_agents count\n",
    "for right_count in right_agents:\n",
    "    times = [entry[3] for entry in time_elapsed_list if entry[1] == right_count]\n",
    "    mean_times.append(np.mean(times))\n",
    "    std_dev_times.append(np.std(times))\n",
    "\n",
    "plt.figure(figsize=(8, 6))\n",
    "plt.errorbar(right_agents, mean_times, yerr=std_dev_times, fmt='o-', capsize=5, label='Elapsed Time')\n",
    "plt.xlabel('Number of Agents on Right Side')\n",
    "plt.ylabel('Elapsed Time (s)')\n",
    "plt.legend()\n",
    "plt.grid(True)"
   ]
  },
  {
   "cell_type": "code",
   "execution_count": null,
   "id": "5d4ab2d0",
   "metadata": {},
   "outputs": [],
   "source": []
  }
 ],
 "metadata": {
  "kernelspec": {
   "display_name": ".venv",
   "language": "python",
   "name": "python3"
  },
  "language_info": {
   "codemirror_mode": {
    "name": "ipython",
    "version": 3
   },
   "file_extension": ".py",
   "mimetype": "text/x-python",
   "name": "python",
   "nbconvert_exporter": "python",
   "pygments_lexer": "ipython3",
   "version": "3.12.7"
  }
 },
 "nbformat": 4,
 "nbformat_minor": 5
}
