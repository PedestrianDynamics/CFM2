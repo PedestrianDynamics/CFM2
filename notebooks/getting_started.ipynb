{
 "cells": [
  {
   "cell_type": "markdown",
   "id": "3c42b4c37d091f62",
   "metadata": {
    "collapsed": false,
    "jupyter": {
     "outputs_hidden": false
    }
   },
   "source": [
    "# Getting started\n",
    "\n",
    "Welcome to the getting started guide of *JuPedSim*, we want to guide you through the first steps for setting up a simulation.\n",
    "\n",
    "First things first, to use *JuPedSim* install it via:\n",
    "\n",
    "```bash\n",
    "pip install jupedsim\n",
    "```\n",
    "\n",
    "Now, you are ready to set up your first simulation with *JuPedSim*.\n",
    "\n",
    "To access this Jupyter Notebook on your local machine, you can download it \n",
    "{download}`here <getting_started.ipynb>` along with the accompanying data file {download}`here <demo-data/bottleneck/040_c_56_h-.txt>`."
   ]
  },
  {
   "cell_type": "markdown",
   "id": "db2af75b7124c2d4",
   "metadata": {
    "collapsed": false,
    "jupyter": {
     "outputs_hidden": false
    }
   },
   "source": [
    "## Let's simulate an experiment\n",
    "\n",
    "This is a bottleneck experiment conducted at the University of Wuppertal in 2018.\n",
    "You can see the basic setup of the experiment in the picture below:\n",
    "\n",
    "```{eval-rst}\n",
    ".. figure:: demo-data/bottleneck/040_c_56_h-.png\n",
    "    :width: 400px\n",
    "    :align: center\n",
    "```\n",
    "\n",
    "We aim to replicate the bottleneck scenario described in the experimental series linked to this [study](https://doi.org/10.34735/ped.2018.1) and detailed in the publication [\"Crowds in front of bottlenecks at entrances from the perspective of physics and social psychology\"](https://doi.org/10.1098/rsif.2019.0871). \n",
    "\n",
    "Our objective in this guide is to simulate this scenario using *JuPedSim*.\n",
    "\n",
    "If you use *JuPedSim* in your work, please cite it using the following information from Zenodo:\n",
    "\n",
    "[![DOI](https://zenodo.org/badge/DOI/10.5281/1293771.svg)](https://doi.org/10.5281/zenodo.1293771)\n",
    "\n"
   ]
  },
  {
   "cell_type": "markdown",
   "id": "8cd6775f",
   "metadata": {},
   "source": [
    "## Setting up the simulation geometry\n",
    "\n",
    "The first thing to consider when setting up a simulation is the area where the agents can move.\n",
    "In this scenario, we have a rectangular room with two obstacles that form a bottleneck, as displayed above.\n",
    "These obstacles are excluded areas from the simulation, which means that agents can not move inside these obstacles."
   ]
  },
  {
   "cell_type": "code",
   "execution_count": 1,
   "id": "92557676",
   "metadata": {},
   "outputs": [],
   "source": [
    "import shapely\n",
    "\n",
    "geometry = shapely.Polygon(\n",
    "    # complete area\n",
    "    [\n",
    "        (3.5, -2),\n",
    "        (3.5, 8),\n",
    "        (-3.5, 8),\n",
    "        (-3.5, -2),\n",
    "    ],\n",
    "    holes=[\n",
    "        # left barrier\n",
    "        [\n",
    "            (-0.7, -1.1),\n",
    "            (-0.25, -1.1),\n",
    "            (-0.25, -0.15),\n",
    "            (-0.4, 0.0),\n",
    "            (-2.8, 0.0),\n",
    "            (-2.8, 6.7),\n",
    "            (-3.05, 6.7),\n",
    "            (-3.05, -0.3),\n",
    "            (-0.7, -0.3),\n",
    "            (-0.7, -1.0),\n",
    "        ],\n",
    "        # right barrier\n",
    "        [\n",
    "            (0.25, -1.1),\n",
    "            (0.7, -1.1),\n",
    "            (0.7, -0.3),\n",
    "            (3.05, -0.3),\n",
    "            (3.05, 6.7),\n",
    "            (2.8, 6.7),\n",
    "            (2.8, 0.0),\n",
    "            (0.4, 0.0),\n",
    "            (0.25, -0.15),\n",
    "            (0.25, -1.1),\n",
    "        ],\n",
    "    ],\n",
    ")"
   ]
  },
  {
   "cell_type": "markdown",
   "id": "c668ac8a",
   "metadata": {},
   "source": [
    "This leads to the following setup:"
   ]
  },
  {
   "cell_type": "code",
   "execution_count": 2,
   "id": "133a3a08",
   "metadata": {
    "tags": [
     "remove-input"
    ]
   },
   "outputs": [
    {
     "data": {
      "image/png": "[encoded data removed]",
      "text/plain": [
       "<Figure size 640x480 with 1 Axes>"
      ]
     },
     "metadata": {},
     "output_type": "display_data"
    }
   ],
   "source": [
    "import matplotlib.pyplot as plt\n",
    "from pedpy import WalkableArea, plot_walkable_area\n",
    "\n",
    "plot_walkable_area(walkable_area=WalkableArea(geometry)).set_aspect(\"equal\")\n",
    "plt.show()"
   ]
  },
  {
   "cell_type": "markdown",
   "id": "76850027",
   "metadata": {},
   "source": [
    "In this geometric setup, we now need to define, where the agents can exit the simulation, e.g., where their target is located.\n",
    "\n",
    "For this scenario, the exit is at the end of the bottleneck.\n",
    "If we would put it at the beginning of the bottleneck, the agents would disappear, hence, they wouldn't be an obstacle for following agents.\n",
    "\n",
    "An exit can be defined as:"
   ]
  },
  {
   "cell_type": "code",
   "execution_count": 3,
   "id": "a84b7932",
   "metadata": {},
   "outputs": [],
   "source": [
    "exit_polygon = shapely.Polygon(\n",
    "    [(-0.2, -1.9), (0.2, -1.9), (0.2, -1.7), (-0.2, -1.7)]\n",
    ")"
   ]
  },
  {
   "cell_type": "markdown",
   "id": "3eba3db8",
   "metadata": {},
   "source": [
    "The complete setup would then look like, where the exit is shown in red:"
   ]
  },
  {
   "cell_type": "code",
   "execution_count": 4,
   "id": "3756f077",
   "metadata": {
    "tags": [
     "remove-input"
    ]
   },
   "outputs": [
    {
     "data": {
      "image/png": "[encoded data removed]",
      "text/plain": [
       "<Figure size 640x480 with 1 Axes>"
      ]
     },
     "metadata": {},
     "output_type": "display_data"
    }
   ],
   "source": [
    "import matplotlib.pyplot as plt\n",
    "from pedpy import MeasurementArea, WalkableArea, plot_measurement_setup\n",
    "\n",
    "# We will use PedPy's plotting functionality, but it has no concept of exits\n",
    "# hence we will show the exit as measurement area\n",
    "plot_measurement_setup(\n",
    "    walkable_area=WalkableArea(geometry),\n",
    "    measurement_areas=[MeasurementArea(exit_polygon)],\n",
    "    ma_color=\"r\",\n",
    "    ma_line_color=\"r\",\n",
    ").set_aspect(\"equal\")\n",
    "plt.show()"
   ]
  },
  {
   "cell_type": "markdown",
   "id": "23f2f723",
   "metadata": {},
   "source": [
    "## Distribute the agents in the geometry\n",
    "\n",
    "\n",
    "The next step is to provide the initial positions of the agents in the simulation. \n",
    "*JuPedSim* provides different helper functions to automatically distribute the agents:\n",
    "\n",
    "- distribute a given number of agents inside a polygon (see {func}`~jupedsim.distribute_by_number`)\n",
    "- distribute agents by a given density inside a polygon (see {func}`~jupedsim.distribute_by_density`)\n",
    "- ... (more methods can be found in the [API reference](/api/jupedsim/index), the names start with `distribute`)\n",
    "\n",
    "However, as we want to compare our simulation to the real-life experimental data, the agents in the simulation will start at the same positions as the pedestrians in the experiment. \n",
    "So we load the trajectory from the experiment and extract the locations at frame 0, which is the start of the experiment."
   ]
  },
  {
   "cell_type": "code",
   "execution_count": 5,
   "id": "4aeef3c2",
   "metadata": {},
   "outputs": [
    {
     "ename": "FileNotFoundError",
     "evalue": "[Errno 2] No such file or directory: 'demo-data/bottleneck/040_c_56_h-.txt'",
     "output_type": "error",
     "traceback": [
      "\u001b[0;31m---------------------------------------------------------------------------\u001b[0m",
      "\u001b[0;31mFileNotFoundError\u001b[0m                         Traceback (most recent call last)",
      "Cell \u001b[0;32mIn[5], line 3\u001b[0m\n\u001b[1;32m      1\u001b[0m \u001b[38;5;28;01mimport\u001b[39;00m \u001b[38;5;21;01mpandas\u001b[39;00m\n\u001b[0;32m----> 3\u001b[0m experiment_data \u001b[38;5;241m=\u001b[39m \u001b[43mpandas\u001b[49m\u001b[38;5;241;43m.\u001b[39;49m\u001b[43mread_csv\u001b[49m\u001b[43m(\u001b[49m\n\u001b[1;32m      4\u001b[0m \u001b[43m    \u001b[49m\u001b[38;5;124;43m\"\u001b[39;49m\u001b[38;5;124;43mdemo-data/bottleneck/040_c_56_h-.txt\u001b[39;49m\u001b[38;5;124;43m\"\u001b[39;49m\u001b[43m,\u001b[49m\n\u001b[1;32m      5\u001b[0m \u001b[43m    \u001b[49m\u001b[43mcomment\u001b[49m\u001b[38;5;241;43m=\u001b[39;49m\u001b[38;5;124;43m\"\u001b[39;49m\u001b[38;5;124;43m#\u001b[39;49m\u001b[38;5;124;43m\"\u001b[39;49m\u001b[43m,\u001b[49m\n\u001b[1;32m      6\u001b[0m \u001b[43m    \u001b[49m\u001b[43msep\u001b[49m\u001b[38;5;241;43m=\u001b[39;49m\u001b[38;5;124;43m\"\u001b[39;49m\u001b[38;5;130;43;01m\\t\u001b[39;49;00m\u001b[38;5;124;43m\"\u001b[39;49m\u001b[43m,\u001b[49m\n\u001b[1;32m      7\u001b[0m \u001b[43m    \u001b[49m\u001b[43mheader\u001b[49m\u001b[38;5;241;43m=\u001b[39;49m\u001b[38;5;28;43;01mNone\u001b[39;49;00m\u001b[43m,\u001b[49m\n\u001b[1;32m      8\u001b[0m \u001b[43m    \u001b[49m\u001b[43mnames\u001b[49m\u001b[38;5;241;43m=\u001b[39;49m\u001b[43m[\u001b[49m\u001b[38;5;124;43m\"\u001b[39;49m\u001b[38;5;124;43mid\u001b[39;49m\u001b[38;5;124;43m\"\u001b[39;49m\u001b[43m,\u001b[49m\u001b[43m \u001b[49m\u001b[38;5;124;43m\"\u001b[39;49m\u001b[38;5;124;43mframe\u001b[39;49m\u001b[38;5;124;43m\"\u001b[39;49m\u001b[43m,\u001b[49m\u001b[43m \u001b[49m\u001b[38;5;124;43m\"\u001b[39;49m\u001b[38;5;124;43mx\u001b[39;49m\u001b[38;5;124;43m\"\u001b[39;49m\u001b[43m,\u001b[49m\u001b[43m \u001b[49m\u001b[38;5;124;43m\"\u001b[39;49m\u001b[38;5;124;43my\u001b[39;49m\u001b[38;5;124;43m\"\u001b[39;49m\u001b[43m,\u001b[49m\u001b[43m \u001b[49m\u001b[38;5;124;43m\"\u001b[39;49m\u001b[38;5;124;43mz\u001b[39;49m\u001b[38;5;124;43m\"\u001b[39;49m\u001b[43m]\u001b[49m\u001b[43m,\u001b[49m\n\u001b[1;32m      9\u001b[0m \u001b[43m)\u001b[49m\n\u001b[1;32m     10\u001b[0m start_positions \u001b[38;5;241m=\u001b[39m experiment_data[experiment_data\u001b[38;5;241m.\u001b[39mframe \u001b[38;5;241m==\u001b[39m \u001b[38;5;241m0\u001b[39m][[\u001b[38;5;124m\"\u001b[39m\u001b[38;5;124mx\u001b[39m\u001b[38;5;124m\"\u001b[39m, \u001b[38;5;124m\"\u001b[39m\u001b[38;5;124my\u001b[39m\u001b[38;5;124m\"\u001b[39m]]\u001b[38;5;241m.\u001b[39mvalues\n",
      "File \u001b[0;32m~/workspace/PedestrianDynamics/CFM2/notebooks/.venv/lib/python3.12/site-packages/pandas/io/parsers/readers.py:1026\u001b[0m, in \u001b[0;36mread_csv\u001b[0;34m(filepath_or_buffer, sep, delimiter, header, names, index_col, usecols, dtype, engine, converters, true_values, false_values, skipinitialspace, skiprows, skipfooter, nrows, na_values, keep_default_na, na_filter, verbose, skip_blank_lines, parse_dates, infer_datetime_format, keep_date_col, date_parser, date_format, dayfirst, cache_dates, iterator, chunksize, compression, thousands, decimal, lineterminator, quotechar, quoting, doublequote, escapechar, comment, encoding, encoding_errors, dialect, on_bad_lines, delim_whitespace, low_memory, memory_map, float_precision, storage_options, dtype_backend)\u001b[0m\n\u001b[1;32m   1013\u001b[0m kwds_defaults \u001b[38;5;241m=\u001b[39m _refine_defaults_read(\n\u001b[1;32m   1014\u001b[0m     dialect,\n\u001b[1;32m   1015\u001b[0m     delimiter,\n\u001b[0;32m   (...)\u001b[0m\n\u001b[1;32m   1022\u001b[0m     dtype_backend\u001b[38;5;241m=\u001b[39mdtype_backend,\n\u001b[1;32m   1023\u001b[0m )\n\u001b[1;32m   1024\u001b[0m kwds\u001b[38;5;241m.\u001b[39mupdate(kwds_defaults)\n\u001b[0;32m-> 1026\u001b[0m \u001b[38;5;28;01mreturn\u001b[39;00m \u001b[43m_read\u001b[49m\u001b[43m(\u001b[49m\u001b[43mfilepath_or_buffer\u001b[49m\u001b[43m,\u001b[49m\u001b[43m \u001b[49m\u001b[43mkwds\u001b[49m\u001b[43m)\u001b[49m\n",
      "File \u001b[0;32m~/workspace/PedestrianDynamics/CFM2/notebooks/.venv/lib/python3.12/site-packages/pandas/io/parsers/readers.py:620\u001b[0m, in \u001b[0;36m_read\u001b[0;34m(filepath_or_buffer, kwds)\u001b[0m\n\u001b[1;32m    617\u001b[0m _validate_names(kwds\u001b[38;5;241m.\u001b[39mget(\u001b[38;5;124m\"\u001b[39m\u001b[38;5;124mnames\u001b[39m\u001b[38;5;124m\"\u001b[39m, \u001b[38;5;28;01mNone\u001b[39;00m))\n\u001b[1;32m    619\u001b[0m \u001b[38;5;66;03m# Create the parser.\u001b[39;00m\n\u001b[0;32m--> 620\u001b[0m parser \u001b[38;5;241m=\u001b[39m \u001b[43mTextFileReader\u001b[49m\u001b[43m(\u001b[49m\u001b[43mfilepath_or_buffer\u001b[49m\u001b[43m,\u001b[49m\u001b[43m \u001b[49m\u001b[38;5;241;43m*\u001b[39;49m\u001b[38;5;241;43m*\u001b[39;49m\u001b[43mkwds\u001b[49m\u001b[43m)\u001b[49m\n\u001b[1;32m    622\u001b[0m \u001b[38;5;28;01mif\u001b[39;00m chunksize \u001b[38;5;129;01mor\u001b[39;00m iterator:\n\u001b[1;32m    623\u001b[0m     \u001b[38;5;28;01mreturn\u001b[39;00m parser\n",
      "File \u001b[0;32m~/workspace/PedestrianDynamics/CFM2/notebooks/.venv/lib/python3.12/site-packages/pandas/io/parsers/readers.py:1620\u001b[0m, in \u001b[0;36mTextFileReader.__init__\u001b[0;34m(self, f, engine, **kwds)\u001b[0m\n\u001b[1;32m   1617\u001b[0m     \u001b[38;5;28mself\u001b[39m\u001b[38;5;241m.\u001b[39moptions[\u001b[38;5;124m\"\u001b[39m\u001b[38;5;124mhas_index_names\u001b[39m\u001b[38;5;124m\"\u001b[39m] \u001b[38;5;241m=\u001b[39m kwds[\u001b[38;5;124m\"\u001b[39m\u001b[38;5;124mhas_index_names\u001b[39m\u001b[38;5;124m\"\u001b[39m]\n\u001b[1;32m   1619\u001b[0m \u001b[38;5;28mself\u001b[39m\u001b[38;5;241m.\u001b[39mhandles: IOHandles \u001b[38;5;241m|\u001b[39m \u001b[38;5;28;01mNone\u001b[39;00m \u001b[38;5;241m=\u001b[39m \u001b[38;5;28;01mNone\u001b[39;00m\n\u001b[0;32m-> 1620\u001b[0m \u001b[38;5;28mself\u001b[39m\u001b[38;5;241m.\u001b[39m_engine \u001b[38;5;241m=\u001b[39m \u001b[38;5;28;43mself\u001b[39;49m\u001b[38;5;241;43m.\u001b[39;49m\u001b[43m_make_engine\u001b[49m\u001b[43m(\u001b[49m\u001b[43mf\u001b[49m\u001b[43m,\u001b[49m\u001b[43m \u001b[49m\u001b[38;5;28;43mself\u001b[39;49m\u001b[38;5;241;43m.\u001b[39;49m\u001b[43mengine\u001b[49m\u001b[43m)\u001b[49m\n",
      "File \u001b[0;32m~/workspace/PedestrianDynamics/CFM2/notebooks/.venv/lib/python3.12/site-packages/pandas/io/parsers/readers.py:1880\u001b[0m, in \u001b[0;36mTextFileReader._make_engine\u001b[0;34m(self, f, engine)\u001b[0m\n\u001b[1;32m   1878\u001b[0m     \u001b[38;5;28;01mif\u001b[39;00m \u001b[38;5;124m\"\u001b[39m\u001b[38;5;124mb\u001b[39m\u001b[38;5;124m\"\u001b[39m \u001b[38;5;129;01mnot\u001b[39;00m \u001b[38;5;129;01min\u001b[39;00m mode:\n\u001b[1;32m   1879\u001b[0m         mode \u001b[38;5;241m+\u001b[39m\u001b[38;5;241m=\u001b[39m \u001b[38;5;124m\"\u001b[39m\u001b[38;5;124mb\u001b[39m\u001b[38;5;124m\"\u001b[39m\n\u001b[0;32m-> 1880\u001b[0m \u001b[38;5;28mself\u001b[39m\u001b[38;5;241m.\u001b[39mhandles \u001b[38;5;241m=\u001b[39m \u001b[43mget_handle\u001b[49m\u001b[43m(\u001b[49m\n\u001b[1;32m   1881\u001b[0m \u001b[43m    \u001b[49m\u001b[43mf\u001b[49m\u001b[43m,\u001b[49m\n\u001b[1;32m   1882\u001b[0m \u001b[43m    \u001b[49m\u001b[43mmode\u001b[49m\u001b[43m,\u001b[49m\n\u001b[1;32m   1883\u001b[0m \u001b[43m    \u001b[49m\u001b[43mencoding\u001b[49m\u001b[38;5;241;43m=\u001b[39;49m\u001b[38;5;28;43mself\u001b[39;49m\u001b[38;5;241;43m.\u001b[39;49m\u001b[43moptions\u001b[49m\u001b[38;5;241;43m.\u001b[39;49m\u001b[43mget\u001b[49m\u001b[43m(\u001b[49m\u001b[38;5;124;43m\"\u001b[39;49m\u001b[38;5;124;43mencoding\u001b[39;49m\u001b[38;5;124;43m\"\u001b[39;49m\u001b[43m,\u001b[49m\u001b[43m \u001b[49m\u001b[38;5;28;43;01mNone\u001b[39;49;00m\u001b[43m)\u001b[49m\u001b[43m,\u001b[49m\n\u001b[1;32m   1884\u001b[0m \u001b[43m    \u001b[49m\u001b[43mcompression\u001b[49m\u001b[38;5;241;43m=\u001b[39;49m\u001b[38;5;28;43mself\u001b[39;49m\u001b[38;5;241;43m.\u001b[39;49m\u001b[43moptions\u001b[49m\u001b[38;5;241;43m.\u001b[39;49m\u001b[43mget\u001b[49m\u001b[43m(\u001b[49m\u001b[38;5;124;43m\"\u001b[39;49m\u001b[38;5;124;43mcompression\u001b[39;49m\u001b[38;5;124;43m\"\u001b[39;49m\u001b[43m,\u001b[49m\u001b[43m \u001b[49m\u001b[38;5;28;43;01mNone\u001b[39;49;00m\u001b[43m)\u001b[49m\u001b[43m,\u001b[49m\n\u001b[1;32m   1885\u001b[0m \u001b[43m    \u001b[49m\u001b[43mmemory_map\u001b[49m\u001b[38;5;241;43m=\u001b[39;49m\u001b[38;5;28;43mself\u001b[39;49m\u001b[38;5;241;43m.\u001b[39;49m\u001b[43moptions\u001b[49m\u001b[38;5;241;43m.\u001b[39;49m\u001b[43mget\u001b[49m\u001b[43m(\u001b[49m\u001b[38;5;124;43m\"\u001b[39;49m\u001b[38;5;124;43mmemory_map\u001b[39;49m\u001b[38;5;124;43m\"\u001b[39;49m\u001b[43m,\u001b[49m\u001b[43m \u001b[49m\u001b[38;5;28;43;01mFalse\u001b[39;49;00m\u001b[43m)\u001b[49m\u001b[43m,\u001b[49m\n\u001b[1;32m   1886\u001b[0m \u001b[43m    \u001b[49m\u001b[43mis_text\u001b[49m\u001b[38;5;241;43m=\u001b[39;49m\u001b[43mis_text\u001b[49m\u001b[43m,\u001b[49m\n\u001b[1;32m   1887\u001b[0m \u001b[43m    \u001b[49m\u001b[43merrors\u001b[49m\u001b[38;5;241;43m=\u001b[39;49m\u001b[38;5;28;43mself\u001b[39;49m\u001b[38;5;241;43m.\u001b[39;49m\u001b[43moptions\u001b[49m\u001b[38;5;241;43m.\u001b[39;49m\u001b[43mget\u001b[49m\u001b[43m(\u001b[49m\u001b[38;5;124;43m\"\u001b[39;49m\u001b[38;5;124;43mencoding_errors\u001b[39;49m\u001b[38;5;124;43m\"\u001b[39;49m\u001b[43m,\u001b[49m\u001b[43m \u001b[49m\u001b[38;5;124;43m\"\u001b[39;49m\u001b[38;5;124;43mstrict\u001b[39;49m\u001b[38;5;124;43m\"\u001b[39;49m\u001b[43m)\u001b[49m\u001b[43m,\u001b[49m\n\u001b[1;32m   1888\u001b[0m \u001b[43m    \u001b[49m\u001b[43mstorage_options\u001b[49m\u001b[38;5;241;43m=\u001b[39;49m\u001b[38;5;28;43mself\u001b[39;49m\u001b[38;5;241;43m.\u001b[39;49m\u001b[43moptions\u001b[49m\u001b[38;5;241;43m.\u001b[39;49m\u001b[43mget\u001b[49m\u001b[43m(\u001b[49m\u001b[38;5;124;43m\"\u001b[39;49m\u001b[38;5;124;43mstorage_options\u001b[39;49m\u001b[38;5;124;43m\"\u001b[39;49m\u001b[43m,\u001b[49m\u001b[43m \u001b[49m\u001b[38;5;28;43;01mNone\u001b[39;49;00m\u001b[43m)\u001b[49m\u001b[43m,\u001b[49m\n\u001b[1;32m   1889\u001b[0m \u001b[43m\u001b[49m\u001b[43m)\u001b[49m\n\u001b[1;32m   1890\u001b[0m \u001b[38;5;28;01massert\u001b[39;00m \u001b[38;5;28mself\u001b[39m\u001b[38;5;241m.\u001b[39mhandles \u001b[38;5;129;01mis\u001b[39;00m \u001b[38;5;129;01mnot\u001b[39;00m \u001b[38;5;28;01mNone\u001b[39;00m\n\u001b[1;32m   1891\u001b[0m f \u001b[38;5;241m=\u001b[39m \u001b[38;5;28mself\u001b[39m\u001b[38;5;241m.\u001b[39mhandles\u001b[38;5;241m.\u001b[39mhandle\n",
      "File \u001b[0;32m~/workspace/PedestrianDynamics/CFM2/notebooks/.venv/lib/python3.12/site-packages/pandas/io/common.py:873\u001b[0m, in \u001b[0;36mget_handle\u001b[0;34m(path_or_buf, mode, encoding, compression, memory_map, is_text, errors, storage_options)\u001b[0m\n\u001b[1;32m    868\u001b[0m \u001b[38;5;28;01melif\u001b[39;00m \u001b[38;5;28misinstance\u001b[39m(handle, \u001b[38;5;28mstr\u001b[39m):\n\u001b[1;32m    869\u001b[0m     \u001b[38;5;66;03m# Check whether the filename is to be opened in binary mode.\u001b[39;00m\n\u001b[1;32m    870\u001b[0m     \u001b[38;5;66;03m# Binary mode does not support 'encoding' and 'newline'.\u001b[39;00m\n\u001b[1;32m    871\u001b[0m     \u001b[38;5;28;01mif\u001b[39;00m ioargs\u001b[38;5;241m.\u001b[39mencoding \u001b[38;5;129;01mand\u001b[39;00m \u001b[38;5;124m\"\u001b[39m\u001b[38;5;124mb\u001b[39m\u001b[38;5;124m\"\u001b[39m \u001b[38;5;129;01mnot\u001b[39;00m \u001b[38;5;129;01min\u001b[39;00m ioargs\u001b[38;5;241m.\u001b[39mmode:\n\u001b[1;32m    872\u001b[0m         \u001b[38;5;66;03m# Encoding\u001b[39;00m\n\u001b[0;32m--> 873\u001b[0m         handle \u001b[38;5;241m=\u001b[39m \u001b[38;5;28;43mopen\u001b[39;49m\u001b[43m(\u001b[49m\n\u001b[1;32m    874\u001b[0m \u001b[43m            \u001b[49m\u001b[43mhandle\u001b[49m\u001b[43m,\u001b[49m\n\u001b[1;32m    875\u001b[0m \u001b[43m            \u001b[49m\u001b[43mioargs\u001b[49m\u001b[38;5;241;43m.\u001b[39;49m\u001b[43mmode\u001b[49m\u001b[43m,\u001b[49m\n\u001b[1;32m    876\u001b[0m \u001b[43m            \u001b[49m\u001b[43mencoding\u001b[49m\u001b[38;5;241;43m=\u001b[39;49m\u001b[43mioargs\u001b[49m\u001b[38;5;241;43m.\u001b[39;49m\u001b[43mencoding\u001b[49m\u001b[43m,\u001b[49m\n\u001b[1;32m    877\u001b[0m \u001b[43m            \u001b[49m\u001b[43merrors\u001b[49m\u001b[38;5;241;43m=\u001b[39;49m\u001b[43merrors\u001b[49m\u001b[43m,\u001b[49m\n\u001b[1;32m    878\u001b[0m \u001b[43m            \u001b[49m\u001b[43mnewline\u001b[49m\u001b[38;5;241;43m=\u001b[39;49m\u001b[38;5;124;43m\"\u001b[39;49m\u001b[38;5;124;43m\"\u001b[39;49m\u001b[43m,\u001b[49m\n\u001b[1;32m    879\u001b[0m \u001b[43m        \u001b[49m\u001b[43m)\u001b[49m\n\u001b[1;32m    880\u001b[0m     \u001b[38;5;28;01melse\u001b[39;00m:\n\u001b[1;32m    881\u001b[0m         \u001b[38;5;66;03m# Binary mode\u001b[39;00m\n\u001b[1;32m    882\u001b[0m         handle \u001b[38;5;241m=\u001b[39m \u001b[38;5;28mopen\u001b[39m(handle, ioargs\u001b[38;5;241m.\u001b[39mmode)\n",
      "\u001b[0;31mFileNotFoundError\u001b[0m: [Errno 2] No such file or directory: 'demo-data/bottleneck/040_c_56_h-.txt'"
     ]
    }
   ],
   "source": [
    "import pandas\n",
    "\n",
    "experiment_data = pandas.read_csv(\n",
    "    \"demo-data/bottleneck/040_c_56_h-.txt\",\n",
    "    comment=\"#\",\n",
    "    sep=\"\\t\",\n",
    "    header=None,\n",
    "    names=[\"id\", \"frame\", \"x\", \"y\", \"z\"],\n",
    ")\n",
    "start_positions = experiment_data[experiment_data.frame == 0][[\"x\", \"y\"]].values"
   ]
  },
  {
   "cell_type": "markdown",
   "id": "3df8baa3",
   "metadata": {},
   "source": [
    "## Collision-free speed model\n",
    "\n",
    "At first, we want to run the simulation with the Collision-free speed model.\n",
    "In [\"Collision-free speed model for pedestrian dynamics\"](https://arxiv.org/abs/1512.05597) you can find the complete description of the model.\n",
    "To use it in *JuPedSim* we need to state, that we will use this model in the creation of the simulation object.\n",
    "\n",
    "We also need to provide the previously defined geometry and the output file, where the resulting trajectories will be stored. \n",
    "Here, we will use the built-in {class}`~jupedsim.SqliteTrajectoryWriter`, which will write the results as a `sqlite`-database."
   ]
  },
  {
   "cell_type": "code",
   "execution_count": null,
   "id": "f94d5d72",
   "metadata": {},
   "outputs": [],
   "source": [
    "import pathlib\n",
    "import jupedsim as jps\n",
    "\n",
    "trajectory_file = \"bottleneck_cfsm.sqlite\"\n",
    "simulation_cfsm = jps.Simulation(\n",
    "    model=jps.CollisionFreeSpeedModel(),\n",
    "    geometry=geometry,\n",
    "    trajectory_writer=jps.SqliteTrajectoryWriter(\n",
    "        output_file=pathlib.Path(trajectory_file)\n",
    "    ),\n",
    ")\n",
    "\n"
   ]
  },
  {
   "cell_type": "markdown",
   "id": "1abdaa83",
   "metadata": {},
   "source": [
    "After we defined the simulation we need to add a goal, which the agents should target. \n",
    "As we already defined the exit polygon above, we can add it to the simulation as a stage.\n",
    "After adding the exit to the simulation, we need to create a journey containing that exit.\n",
    "Journeys are used to manage more complex routing situation, an explanation of the underlying routing concept can be found [here](/concepts/routing)."
   ]
  },
  {
   "cell_type": "code",
   "execution_count": null,
   "id": "9b39a70c",
   "metadata": {},
   "outputs": [],
   "source": [
    "exit_id = simulation_cfsm.add_exit_stage(exit_polygon)\n",
    "journey = jps.JourneyDescription([exit_id])\n",
    "journey_id = simulation_cfsm.add_journey(journey)"
   ]
  },
  {
   "cell_type": "markdown",
   "id": "885383ad",
   "metadata": {},
   "source": [
    "Now we have the setup for the simulation.\n",
    "But there are no agents in simulation yet, so we need to add them.\n",
    "\n",
    "Before adding a simulation we need to define the agent specific parameters. \n",
    "In this example, all the agents will get the same parameters.\n",
    "We will now re-use the above extracted start positions of the agents."
   ]
  },
  {
   "cell_type": "code",
   "execution_count": null,
   "id": "2f6e5ef7",
   "metadata": {},
   "outputs": [],
   "source": [
    "for position in start_positions:\n",
    "    simulation_cfsm.add_agent(\n",
    "        jps.CollisionFreeSpeedModelAgentParameters(\n",
    "            journey_id=journey_id,\n",
    "            stage_id=exit_id,\n",
    "            position=position,\n",
    "            radius=0.12,\n",
    "        )\n",
    "    )"
   ]
  },
  {
   "cell_type": "markdown",
   "id": "51beba22",
   "metadata": {},
   "source": [
    "After, we have added the agents. \n",
    "We've got everything needed to start a simulation.\n",
    "Here, we will iterate, as long as there are agents inside the simulation, e.g., some agents have not yet reached the exit."
   ]
  },
  {
   "cell_type": "code",
   "execution_count": null,
   "id": "54987fa7",
   "metadata": {},
   "outputs": [],
   "source": [
    "while (\n",
    "    simulation_cfsm.agent_count() > 0\n",
    "    and simulation_cfsm.iteration_count() < 2000\n",
    "):\n",
    "    simulation_cfsm.iterate()"
   ]
  },
  {
   "cell_type": "markdown",
   "id": "0e11f5f4",
   "metadata": {},
   "source": [
    "Now, every agent has left the simulation.\n",
    "Let's have a look at the result:"
   ]
  },
  {
   "cell_type": "code",
   "execution_count": null,
   "id": "71f8c9b1",
   "metadata": {
    "tags": [
     "hide-input"
    ]
   },
   "outputs": [],
   "source": [
    "import pedpy\n",
    "from jupedsim.internal.notebook_utils import animate, read_sqlite_file\n",
    "\n",
    "trajectory_data, walkable_area = read_sqlite_file(trajectory_file)\n",
    "speed = pedpy.compute_individual_speed(traj_data=trajectory_data, frame_step=5)\n",
    "speed = speed.merge(trajectory_data.data, on=[\"id\", \"frame\"], how=\"left\")\n",
    "\n",
    "animate(trajectory_data, walkable_area)"
   ]
  },
  {
   "cell_type": "markdown",
   "id": "ec4178e6",
   "metadata": {},
   "source": [
    "We have set up a first simple simulation with *JuPedSim*.\n",
    "The results are saved in trajectory files, which can be used for further analyzes. \n",
    "\n",
    "\n",
    "For more examples, how to set up simulations have a look at the following notebooks:\n",
    "\n",
    "- [Movement around corners](corner)\n",
    "- [Movement through bottlenecks](double-bottleneck)\n",
    "- [How to work with Journeys](journey)\n",
    "- [Lane formation in bi-directional flow](lane-formation)\n",
    "- [Modelling Motivation](motivation)\n",
    "- [Waiting in Queues](queues_waiting)\n",
    "- [How Route Choice can Impact Evacuation Times](routing)\n",
    "- [Simulating Single-File Movement](single-file)\n",
    "\n",
    "We would love to hear some [feedback](https://www.github.com/PedestrianDynamics/jupedsim/discussions) from you!"
   ]
  },
  {
   "cell_type": "markdown",
   "id": "80565b8d",
   "metadata": {},
   "source": [
    "## Comparison\n",
    "\n",
    "After simulating a bottleneck scenario with the initial positions as in the experimental setup, we now want to compare the simulation results with the experiment results.\n",
    "The first step here, is to have a look at the trajectories of both:"
   ]
  },
  {
   "cell_type": "code",
   "execution_count": null,
   "id": "1d9d8274",
   "metadata": {
    "tags": [
     "hide-input"
    ]
   },
   "outputs": [],
   "source": [
    "import pathlib\n",
    "\n",
    "import matplotlib.pyplot as plt\n",
    "import pedpy\n",
    "\n",
    "experimental_trajectories = pedpy.load_trajectory(\n",
    "    trajectory_file=pathlib.Path(\"demo-data/bottleneck/040_c_56_h-.txt\")\n",
    ")\n",
    "\n",
    "cfsm_data, walkable_area = read_sqlite_file(trajectory_file)\n",
    "\n",
    "fig = plt.figure()\n",
    "\n",
    "ax1 = fig.add_subplot(121, aspect=\"equal\")\n",
    "ax1.set_title(\"experimental data\")\n",
    "pedpy.plot_trajectories(\n",
    "    traj=experimental_trajectories,\n",
    "    axes=ax1,\n",
    "    walkable_area=pedpy.WalkableArea(geometry),\n",
    ")\n",
    "\n",
    "ax2 = fig.add_subplot(122, aspect=\"equal\")\n",
    "ax2.set_title(\"Collision free speed model\")\n",
    "pedpy.plot_trajectories(\n",
    "    traj=cfsm_data, axes=ax2, walkable_area=pedpy.WalkableArea(geometry)\n",
    ")\n",
    "plt.show()"
   ]
  },
  {
   "cell_type": "markdown",
   "id": "88ebbe77",
   "metadata": {},
   "source": [
    "But we do not only want to have a qualitative comparision, but also a quantitive one.\n",
    "We will use [PedPy](https://pedpy.readthedocs.io) for this analysis, it is a Python library designed for analysing pedestrian movement data.\n",
    "\n",
    "\n",
    "So, we want to compare the flow of the data sets at the bottleneck.\n",
    "First, we create a measurement line at the beginning of the bottleneck:"
   ]
  },
  {
   "cell_type": "code",
   "execution_count": null,
   "id": "cd45f517",
   "metadata": {},
   "outputs": [],
   "source": [
    "import pedpy\n",
    "\n",
    "measurement_line = pedpy.MeasurementLine([(0.35, 0), (-0.35, 0)])"
   ]
  },
  {
   "cell_type": "code",
   "execution_count": null,
   "id": "c7b1478d",
   "metadata": {
    "tags": [
     "hide-input"
    ]
   },
   "outputs": [],
   "source": [
    "import pedpy\n",
    "\n",
    "pedpy.plot_measurement_setup(\n",
    "    walkable_area=walkable_area,\n",
    "    measurement_lines=[measurement_line],\n",
    "    ml_color=\"red\",\n",
    "    ml_width=2,\n",
    ").set_aspect(\"equal\")\n",
    "plt.show()"
   ]
  },
  {
   "cell_type": "markdown",
   "id": "7be560f5",
   "metadata": {},
   "source": [
    "For this line we can then compute the flow:"
   ]
  },
  {
   "cell_type": "code",
   "execution_count": null,
   "id": "71014607",
   "metadata": {},
   "outputs": [],
   "source": [
    "import pedpy\n",
    "\n",
    "nt_experiment, _ = pedpy.compute_n_t(\n",
    "    traj_data=experimental_trajectories,\n",
    "    measurement_line=measurement_line,\n",
    ")\n",
    "\n",
    "nt_cfsm, _ = pedpy.compute_n_t(\n",
    "    traj_data=cfsm_data,\n",
    "    measurement_line=measurement_line,\n",
    ")"
   ]
  },
  {
   "cell_type": "markdown",
   "id": "5d549d50",
   "metadata": {},
   "source": [
    "The results can be seen here:"
   ]
  },
  {
   "cell_type": "code",
   "execution_count": null,
   "id": "157cee16",
   "metadata": {
    "tags": [
     "hide-input"
    ]
   },
   "outputs": [],
   "source": [
    "fig = plt.figure()\n",
    "ax = fig.add_subplot(111)\n",
    "ax.set_title(\"N-t\")\n",
    "ax.plot(\n",
    "    nt_experiment[\"time\"],\n",
    "    nt_experiment[\"cumulative_pedestrians\"],\n",
    "    label=\"experiment\",\n",
    ")\n",
    "ax.plot(nt_cfsm[\"time\"], nt_cfsm[\"cumulative_pedestrians\"], label=\"cfsm\")\n",
    "ax.legend()\n",
    "ax.set_xlabel(\"t / s\")\n",
    "ax.set_ylabel(\"# pedestrians\")\n",
    "plt.show()"
   ]
  }
 ],
 "metadata": {
  "kernelspec": {
   "display_name": ".venv",
   "language": "python",
   "name": "python3"
  },
  "language_info": {
   "codemirror_mode": {
    "name": "ipython",
    "version": 3
   },
   "file_extension": ".py",
   "mimetype": "text/x-python",
   "name": "python",
   "nbconvert_exporter": "python",
   "pygments_lexer": "ipython3",
   "version": "3.12.7"
  }
 },
 "nbformat": 4,
 "nbformat_minor": 5
}
