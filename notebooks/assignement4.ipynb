{
 "cells": [
  {
   "cell_type": "code",
   "execution_count": null,
   "metadata": {},
   "outputs": [],
   "source": [
    "import jupedsim as jps\n",
    "from shapely import Polygon\n",
    "import pathlib\n",
    "import matplotlib.pyplot as plt\n",
    "import shapely"
   ]
  },
  {
   "cell_type": "code",
   "execution_count": null,
   "metadata": {},
   "outputs": [],
   "source": [
    "with open(\"geometry.wkt\") as f:\n",
    "    geometry_str = f.readline()\n",
    "\n",
    "area = shapely.from_wkt(geometry_str)\n",
    "for geo in area.geoms:\n",
    "    plt.plot(*geo.exterior.xy)\n",
    "    for interior in geo.interiors:\n",
    "        plt.plot(*interior.xy, \"-k\")\n",
    "\n",
    "plt.show()"
   ]
  },
  {
   "cell_type": "code",
   "execution_count": null,
   "metadata": {},
   "outputs": [],
   "source": [
    "def distribute_agents_in_polygon(\n",
    "    x1: float,  \n",
    "    y1: float,\n",
    "    x2: float,\n",
    "    y2: float,\n",
    "    number_of_agents: int = 3,\n",
    "    distance_to_agents: float = 0.4,\n",
    "    distance_to_polygon: float = 0.2,\n",
    "    seed: int = 1,\n",
    "):\n",
    "    polygon = Polygon([[x1, y1], [x2, y1], [x2, y2], [x1, y2]])\n",
    "    return jps.distributions.distribute_by_number(\n",
    "        polygon=polygon,\n",
    "        number_of_agents=number_of_agents,\n",
    "        distance_to_agents=distance_to_agents,\n",
    "        distance_to_polygon=distance_to_polygon,\n",
    "        seed=seed,\n",
    "    )\n",
    "\n",
    "polygons = {\n",
    "    7: (566, 137, 567.5, 141),\n",
    "    8: (569, 137, 571, 141),\n",
    "    9: (572, 137, 573, 141),\n",
    "    10: (575, 137, 576.5, 141),\n",
    "    12: (577.5, 137, 579.5, 141),\n",
    "    11: (581, 137, 582.5, 141),\n",
    "    1: (566, 144, 567.5, 147),\n",
    "    2: (569, 144, 571, 147),\n",
    "    3: (572.7, 144, 574.5, 147),\n",
    "    4: (575, 144, 576.5, 147),\n",
    "    5: (577.5, 144, 579.5, 147),\n",
    "    6: (581, 144, 582.5, 147),\n",
    "}\n",
    "positions = [\n",
    "    (key, distribute_agents_in_polygon(*coords)) for key, coords in polygons.items()\n",
    "]"
   ]
  },
  {
   "cell_type": "code",
   "execution_count": null,
   "metadata": {},
   "outputs": [],
   "source": [
    "trajectory_file = \"Assignment4.sqlite\"\n",
    "simulation = jps.Simulation(\n",
    "    model=jps.CollisionFreeSpeedModel(),\n",
    "    geometry=area,\n",
    "    trajectory_writer=jps.SqliteTrajectoryWriter(\n",
    "        output_file=pathlib.Path(trajectory_file)\n",
    "    ),\n",
    ")\n",
    "\n",
    "exit_area1 = Polygon([(582.5, 142), (582.9, 142), (582.9, 143), (582.5, 143)])\n",
    "exit_area2 = Polygon([(571.5, 147.7), (572.9, 147.7), (572.9, 147), (571.5, 147)])\n",
    "exit_id1 = simulation.add_exit_stage(exit_area1)\n",
    "exit_id2 = simulation.add_exit_stage(exit_area2)\n",
    "\n",
    "journey_id = simulation.add_journey(jps.JourneyDescription([exit_id1, exit_id2]))"
   ]
  },
  {
   "cell_type": "code",
   "execution_count": null,
   "metadata": {},
   "outputs": [],
   "source": [
    "for room_id, positions in positions:\n",
    "    for pos in positions:\n",
    "        if room_id in [1, 2, 3, 4, 7, 8, 9, 10]:\n",
    "            chosen_exit = exit_id2\n",
    "        else:\n",
    "            chosen_exit = exit_id1\n",
    "\n",
    "        simulation.add_agent(\n",
    "            jps.CollisionFreeSpeedModelAgentParameters(\n",
    "                journey_id=journey_id, stage_id=chosen_exit, position=pos\n",
    "            )\n",
    "        )"
   ]
  },
  {
   "cell_type": "code",
   "execution_count": null,
   "metadata": {},
   "outputs": [],
   "source": [
    "while simulation.agent_count() > 0 and simulation.iteration_count() < 3000:\n",
    "    simulation.iterate()\n",
    "\n",
    "print(f\"Simulation time: {simulation.iteration_count()} \")"
   ]
  },
  {
   "cell_type": "code",
   "execution_count": null,
   "metadata": {},
   "outputs": [],
   "source": [
    "from jupedsim.internal.notebook_utils import animate, read_sqlite_file\n",
    "\n",
    "trajectory_data, walkable_area = read_sqlite_file(trajectory_file)\n",
    "animate(trajectory_data, walkable_area, every_nth_frame=10)"
   ]
  }
 ],
 "metadata": {
  "kernelspec": {
   "display_name": ".venv",
   "language": "python",
   "name": "python3"
  },
  "language_info": {
   "codemirror_mode": {
    "name": "ipython",
    "version": 3
   },
   "file_extension": ".py",
   "mimetype": "text/x-python",
   "name": "python",
   "nbconvert_exporter": "python",
   "pygments_lexer": "ipython3",
   "version": "3.10.12"
  }
 },
 "nbformat": 4,
 "nbformat_minor": 2
}
